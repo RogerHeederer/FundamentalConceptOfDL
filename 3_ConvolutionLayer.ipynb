{
  "nbformat": 4,
  "nbformat_minor": 0,
  "metadata": {
    "colab": {
      "name": "3_ConvolutionLayer.ipynb",
      "provenance": [],
      "authorship_tag": "ABX9TyOub6sRNOnSW71rmiJf2UsE",
      "include_colab_link": true
    },
    "kernelspec": {
      "name": "python3",
      "display_name": "Python 3"
    },
    "accelerator": "GPU"
  },
  "cells": [
    {
      "cell_type": "markdown",
      "metadata": {
        "id": "view-in-github",
        "colab_type": "text"
      },
      "source": [
        "<a href=\"https://colab.research.google.com/github/RogerHeederer/FundamentalConceptOfDL/blob/master/3_ConvolutionLayer.ipynb\" target=\"_parent\"><img src=\"https://colab.research.google.com/assets/colab-badge.svg\" alt=\"Open In Colab\"/></a>"
      ]
    },
    {
      "cell_type": "markdown",
      "metadata": {
        "id": "S5206E4SE233"
      },
      "source": [
        "ref: 봉수골 개발자 이선비님의 깃허브를 참조하였으며, 학습용으로 진행한 테스트입니다\n",
        "\n",
        "추가적으로 필요한 설명 및 요약들을 제 나름대로 표현하여 작성하였습니다."
      ]
    },
    {
      "cell_type": "code",
      "metadata": {
        "id": "tt5TkITQEymL"
      },
      "source": [
        "import tensorflow as tf\n",
        "import pandas as pd"
      ],
      "execution_count": 11,
      "outputs": []
    },
    {
      "cell_type": "code",
      "metadata": {
        "colab": {
          "base_uri": "https://localhost:8080/"
        },
        "id": "jeAfJ7S_IgKi",
        "outputId": "a1f13fb2-297a-48a1-f3e1-96405af76dfa"
      },
      "source": [
        "(x, y_target), _ = tf.keras.datasets.mnist.load_data()\n",
        "print(x.shape, y_target.shape)"
      ],
      "execution_count": 12,
      "outputs": [
        {
          "output_type": "stream",
          "text": [
            "(60000, 28, 28) (60000,)\n"
          ],
          "name": "stdout"
        }
      ]
    },
    {
      "cell_type": "code",
      "metadata": {
        "colab": {
          "base_uri": "https://localhost:8080/"
        },
        "id": "ceTqzNEuIrtE",
        "outputId": "4279a558-790b-482f-f6dd-7e3b366dc52c"
      },
      "source": [
        "# conv2d 레이어에 넣기 위해서는 2차원 데이터를 3차원 형태의 데이터로 변형시켜줘야 한다.\n",
        "# 28x28을 28x28x1 형태로 변형\n",
        "x = x.reshape(60000, 28, 28, 1)\n",
        "y_target = pd.get_dummies(y_target)\n",
        "print(x.shape, y_target.shape)"
      ],
      "execution_count": 13,
      "outputs": [
        {
          "output_type": "stream",
          "text": [
            "(60000, 28, 28, 1) (60000, 10)\n"
          ],
          "name": "stdout"
        }
      ]
    },
    {
      "cell_type": "markdown",
      "metadata": {
        "id": "n85YMUWaQKsl"
      },
      "source": [
        "<img src = \"https://drive.google.com/uc?export=view&id=139o7Zex0s5-QRUv0FQ47j7CT8r_pvj0O\" align=left height=\"400\">\n",
        "\n"
      ]
    },
    {
      "cell_type": "markdown",
      "metadata": {
        "id": "8wPLa2ZwQskg"
      },
      "source": [
        ">봉수골 개발자 이선비님 슬라이드 자료"
      ]
    },
    {
      "cell_type": "markdown",
      "metadata": {
        "id": "AUZZb2_wMuBp"
      },
      "source": [
        "##컨볼루션 네트워크에서 기계가 학습하는 것은 필터이다. 필터들을 뜯어보면 전부 w와 같은 가중치로 이루어져있음\n",
        "\n",
        "X = tf.keras.layers.Input(shape=[28, 28, 1])\n",
        "\n",
        "Conv2D(3, kernel_size=5, activation='swish')\n",
        "\n",
        "Conv2D(6, kernel_size=5, activation='swish')\n",
        "\n",
        "F1, F2, F3 이렇게 필터 3개가 존재하고, 앞선 레이어가 채널이 1개이니, F1은 (5,5,1) F2도 (5,5,1) F3도 (5,5,1) shape을 가진다.\n",
        "\n",
        "그럼 필터셋 전체는 [F1,F2,F3] 이니 (3,5,5,1)의 형태임 \n",
        "\n",
        "\n",
        "1. 필터은 3차원 형태로 된 가중치의 모음\n",
        "\n",
        "2. 필터 하나는 앞선 레이어의 결과인 \"특징맵\"(Feature Map) 전체를 본다.\n",
        "\n",
        "3. 필터 하나가 특징맵 하나를 만든다. 즉 필터 개수 만큼 특징맵을 만든다.\n",
        "필터의 개수가 3개면, 특징맵도 3개 나옴\n",
        "\n",
        "## 정리 ##\n",
        "\n",
        "1. 28x28x1 데이터를 3개의 필터에 넣는다\n",
        "\n",
        "2. F1 F2 F3 필터가 적용되어 만들어진 M1 M2 M3 특징맵 3개가 나온다\n",
        "\n",
        "3. 이 특징맵 3개에 3차원의 필터 6개들이 적용되어 특징맵 6개를 만든다.\n",
        "\n",
        "-- 기계야! 이 이미지들이 0~9까지 중 어느 숫자인지 판단하기 위한 가장 적합한 특징맵 6개를 만들어줘.\n",
        "\n",
        "-- 기계는 필터에 속해있는 가중치들을 최적화 시키면서 가장 좋은 특징맵을 만들기 위해 학습된다\n"
      ]
    },
    {
      "cell_type": "code",
      "metadata": {
        "id": "e9C57g-FJHKr"
      },
      "source": [
        "# 모델 만들기\n",
        "X = tf.keras.layers.Input(shape=[28, 28, 1])\n",
        "\n",
        "# 3개의 fiter를 사용하겠고, 각 필터의 사이즌 5. 즉 28x28 데이터 1개마다 3개의 필터 적용. 각개 3개의 필터 결과값(=필터셋)이 나옴\n",
        "H = tf.keras.layers.Conv2D(3, kernel_size=5, activation='swish')(X) \n",
        "H = tf.keras.layers.Conv2D(6, kernel_size=6, activation='swish')(H) # 6개의 filter를 사용하겠고 각 필터의 사이즌 6\n",
        "H = tf.keras.layers.Flatten()(H) # 픽셀 단위로 한줄로 쭉 펼침.\n",
        "H = tf.keras.layers.Dense(84, activation='swish')(H)\n",
        "Y = tf.keras.layers.Dense(10, activation='softmax')(H)\n",
        "model = tf.keras.models.Model(X, Y)\n",
        "model.compile(loss='categorical_crossentropy', metrics='accuracy')"
      ],
      "execution_count": 14,
      "outputs": []
    },
    {
      "cell_type": "code",
      "metadata": {
        "colab": {
          "base_uri": "https://localhost:8080/"
        },
        "id": "Wyc1IO3FKbcT",
        "outputId": "09cac1bf-9c34-401d-b7c8-24d395af22d6"
      },
      "source": [
        "model.summary()"
      ],
      "execution_count": 15,
      "outputs": [
        {
          "output_type": "stream",
          "text": [
            "Model: \"model_1\"\n",
            "_________________________________________________________________\n",
            "Layer (type)                 Output Shape              Param #   \n",
            "=================================================================\n",
            "input_2 (InputLayer)         [(None, 28, 28, 1)]       0         \n",
            "_________________________________________________________________\n",
            "conv2d_2 (Conv2D)            (None, 24, 24, 3)         78        \n",
            "_________________________________________________________________\n",
            "conv2d_3 (Conv2D)            (None, 19, 19, 6)         654       \n",
            "_________________________________________________________________\n",
            "flatten_1 (Flatten)          (None, 2166)              0         \n",
            "_________________________________________________________________\n",
            "dense_2 (Dense)              (None, 84)                182028    \n",
            "_________________________________________________________________\n",
            "dense_3 (Dense)              (None, 10)                850       \n",
            "=================================================================\n",
            "Total params: 183,610\n",
            "Trainable params: 183,610\n",
            "Non-trainable params: 0\n",
            "_________________________________________________________________\n"
          ],
          "name": "stdout"
        }
      ]
    },
    {
      "cell_type": "markdown",
      "metadata": {
        "id": "QbXrASuTLDEW"
      },
      "source": [
        "28 x 28 데이터에  필터(사이즈5)가 훑으면, 그 데이터는 28 - (사이즈5-1) = 24 픽셀이 된다\n",
        "\n",
        "다시 24 픽셀에 필터(사이즈 6)이 훑으면, 그 데이터는 24 - (사이즈6-1) = 19 픽셀이 된다.\n",
        "\n",
        "파라미터가 나오는 과정을 살펴보면,\n",
        "\n",
        "\n",
        "input값에 커널 사이즈 5인 필터가 일차적으로 적용된다. 커널 사이즈 5인 필터는 5x5 = 25개의 파라미터를 가지고 있음. 근데 이게 3개 적용되니까, 25x3은 75. 여기에 필터 1개당 bias 1개씩 더하면,  75 + 3이라서 78개의 파라미터가 됨\n",
        "\n",
        "다음으로 커널 사이즈 6인 필터가 3개 채널에 전부 각각 적용되니까 6x6x3 = 108\n",
        "\n",
        "108개의 파라미터들이 총 6세트 있으니 108x6 = 648개 파라미터. 여기에 필터셋 1개당 bias가 적용되니 648 + 6bias = 654개의 파라미터\n"
      ]
    },
    {
      "cell_type": "code",
      "metadata": {
        "colab": {
          "base_uri": "https://localhost:8080/"
        },
        "id": "vQR0vKCsUKzR",
        "outputId": "ab215454-fa5a-43cb-cd9b-59beb4517e11"
      },
      "source": [
        "model.fit(x, y_target, epochs=10)"
      ],
      "execution_count": 16,
      "outputs": [
        {
          "output_type": "stream",
          "text": [
            "Epoch 1/10\n",
            "1875/1875 [==============================] - 6s 3ms/step - loss: 1.0500 - accuracy: 0.8506\n",
            "Epoch 2/10\n",
            "1875/1875 [==============================] - 5s 3ms/step - loss: 0.0846 - accuracy: 0.9755\n",
            "Epoch 3/10\n",
            "1875/1875 [==============================] - 5s 3ms/step - loss: 0.0475 - accuracy: 0.9857\n",
            "Epoch 4/10\n",
            "1875/1875 [==============================] - 6s 3ms/step - loss: 0.0350 - accuracy: 0.9894\n",
            "Epoch 5/10\n",
            "1875/1875 [==============================] - 6s 3ms/step - loss: 0.0284 - accuracy: 0.9920\n",
            "Epoch 6/10\n",
            "1875/1875 [==============================] - 6s 3ms/step - loss: 0.0216 - accuracy: 0.9933\n",
            "Epoch 7/10\n",
            "1875/1875 [==============================] - 5s 3ms/step - loss: 0.0201 - accuracy: 0.9944\n",
            "Epoch 8/10\n",
            "1875/1875 [==============================] - 6s 3ms/step - loss: 0.0171 - accuracy: 0.9952\n",
            "Epoch 9/10\n",
            "1875/1875 [==============================] - 6s 3ms/step - loss: 0.0154 - accuracy: 0.9960\n",
            "Epoch 10/10\n",
            "1875/1875 [==============================] - 6s 3ms/step - loss: 0.0148 - accuracy: 0.9955\n"
          ],
          "name": "stdout"
        },
        {
          "output_type": "execute_result",
          "data": {
            "text/plain": [
              "<tensorflow.python.keras.callbacks.History at 0x7f7ec0477f28>"
            ]
          },
          "metadata": {
            "tags": []
          },
          "execution_count": 16
        }
      ]
    },
    {
      "cell_type": "code",
      "metadata": {
        "id": "IAGjPVEWKccv"
      },
      "source": [
        "# 모델 이용해보기\n",
        "pred = model.predict(x[0:5])"
      ],
      "execution_count": 17,
      "outputs": []
    },
    {
      "cell_type": "code",
      "metadata": {
        "id": "WsQe8oxDW79B",
        "colab": {
          "base_uri": "https://localhost:8080/"
        },
        "outputId": "82827ecd-d0ae-4b67-e885-9b8e2a2dbadc"
      },
      "source": [
        "pred.shape"
      ],
      "execution_count": 20,
      "outputs": [
        {
          "output_type": "execute_result",
          "data": {
            "text/plain": [
              "(5, 10)"
            ]
          },
          "metadata": {
            "tags": []
          },
          "execution_count": 20
        }
      ]
    },
    {
      "cell_type": "code",
      "metadata": {
        "id": "OyYs2GpyW8kh",
        "colab": {
          "base_uri": "https://localhost:8080/",
          "height": 204
        },
        "outputId": "33627094-5fee-4a6d-fbf9-c92a021ccf92"
      },
      "source": [
        "pd.DataFrame(pred).round(2)"
      ],
      "execution_count": 21,
      "outputs": [
        {
          "output_type": "execute_result",
          "data": {
            "text/html": [
              "<div>\n",
              "<style scoped>\n",
              "    .dataframe tbody tr th:only-of-type {\n",
              "        vertical-align: middle;\n",
              "    }\n",
              "\n",
              "    .dataframe tbody tr th {\n",
              "        vertical-align: top;\n",
              "    }\n",
              "\n",
              "    .dataframe thead th {\n",
              "        text-align: right;\n",
              "    }\n",
              "</style>\n",
              "<table border=\"1\" class=\"dataframe\">\n",
              "  <thead>\n",
              "    <tr style=\"text-align: right;\">\n",
              "      <th></th>\n",
              "      <th>0</th>\n",
              "      <th>1</th>\n",
              "      <th>2</th>\n",
              "      <th>3</th>\n",
              "      <th>4</th>\n",
              "      <th>5</th>\n",
              "      <th>6</th>\n",
              "      <th>7</th>\n",
              "      <th>8</th>\n",
              "      <th>9</th>\n",
              "    </tr>\n",
              "  </thead>\n",
              "  <tbody>\n",
              "    <tr>\n",
              "      <th>0</th>\n",
              "      <td>0.0</td>\n",
              "      <td>0.0</td>\n",
              "      <td>0.0</td>\n",
              "      <td>0.0</td>\n",
              "      <td>0.0</td>\n",
              "      <td>1.0</td>\n",
              "      <td>0.0</td>\n",
              "      <td>0.0</td>\n",
              "      <td>0.0</td>\n",
              "      <td>0.0</td>\n",
              "    </tr>\n",
              "    <tr>\n",
              "      <th>1</th>\n",
              "      <td>1.0</td>\n",
              "      <td>0.0</td>\n",
              "      <td>0.0</td>\n",
              "      <td>0.0</td>\n",
              "      <td>0.0</td>\n",
              "      <td>0.0</td>\n",
              "      <td>0.0</td>\n",
              "      <td>0.0</td>\n",
              "      <td>0.0</td>\n",
              "      <td>0.0</td>\n",
              "    </tr>\n",
              "    <tr>\n",
              "      <th>2</th>\n",
              "      <td>0.0</td>\n",
              "      <td>0.0</td>\n",
              "      <td>0.0</td>\n",
              "      <td>0.0</td>\n",
              "      <td>1.0</td>\n",
              "      <td>0.0</td>\n",
              "      <td>0.0</td>\n",
              "      <td>0.0</td>\n",
              "      <td>0.0</td>\n",
              "      <td>0.0</td>\n",
              "    </tr>\n",
              "    <tr>\n",
              "      <th>3</th>\n",
              "      <td>0.0</td>\n",
              "      <td>1.0</td>\n",
              "      <td>0.0</td>\n",
              "      <td>0.0</td>\n",
              "      <td>0.0</td>\n",
              "      <td>0.0</td>\n",
              "      <td>0.0</td>\n",
              "      <td>0.0</td>\n",
              "      <td>0.0</td>\n",
              "      <td>0.0</td>\n",
              "    </tr>\n",
              "    <tr>\n",
              "      <th>4</th>\n",
              "      <td>0.0</td>\n",
              "      <td>0.0</td>\n",
              "      <td>0.0</td>\n",
              "      <td>0.0</td>\n",
              "      <td>0.0</td>\n",
              "      <td>0.0</td>\n",
              "      <td>0.0</td>\n",
              "      <td>0.0</td>\n",
              "      <td>0.0</td>\n",
              "      <td>1.0</td>\n",
              "    </tr>\n",
              "  </tbody>\n",
              "</table>\n",
              "</div>"
            ],
            "text/plain": [
              "     0    1    2    3    4    5    6    7    8    9\n",
              "0  0.0  0.0  0.0  0.0  0.0  1.0  0.0  0.0  0.0  0.0\n",
              "1  1.0  0.0  0.0  0.0  0.0  0.0  0.0  0.0  0.0  0.0\n",
              "2  0.0  0.0  0.0  0.0  1.0  0.0  0.0  0.0  0.0  0.0\n",
              "3  0.0  1.0  0.0  0.0  0.0  0.0  0.0  0.0  0.0  0.0\n",
              "4  0.0  0.0  0.0  0.0  0.0  0.0  0.0  0.0  0.0  1.0"
            ]
          },
          "metadata": {
            "tags": []
          },
          "execution_count": 21
        }
      ]
    },
    {
      "cell_type": "code",
      "metadata": {
        "colab": {
          "base_uri": "https://localhost:8080/",
          "height": 204
        },
        "id": "UdrFF4w0XvA0",
        "outputId": "7db3695f-d26b-4c76-87c7-821aed593466"
      },
      "source": [
        "y_target[0:5]"
      ],
      "execution_count": 22,
      "outputs": [
        {
          "output_type": "execute_result",
          "data": {
            "text/html": [
              "<div>\n",
              "<style scoped>\n",
              "    .dataframe tbody tr th:only-of-type {\n",
              "        vertical-align: middle;\n",
              "    }\n",
              "\n",
              "    .dataframe tbody tr th {\n",
              "        vertical-align: top;\n",
              "    }\n",
              "\n",
              "    .dataframe thead th {\n",
              "        text-align: right;\n",
              "    }\n",
              "</style>\n",
              "<table border=\"1\" class=\"dataframe\">\n",
              "  <thead>\n",
              "    <tr style=\"text-align: right;\">\n",
              "      <th></th>\n",
              "      <th>0</th>\n",
              "      <th>1</th>\n",
              "      <th>2</th>\n",
              "      <th>3</th>\n",
              "      <th>4</th>\n",
              "      <th>5</th>\n",
              "      <th>6</th>\n",
              "      <th>7</th>\n",
              "      <th>8</th>\n",
              "      <th>9</th>\n",
              "    </tr>\n",
              "  </thead>\n",
              "  <tbody>\n",
              "    <tr>\n",
              "      <th>0</th>\n",
              "      <td>0</td>\n",
              "      <td>0</td>\n",
              "      <td>0</td>\n",
              "      <td>0</td>\n",
              "      <td>0</td>\n",
              "      <td>1</td>\n",
              "      <td>0</td>\n",
              "      <td>0</td>\n",
              "      <td>0</td>\n",
              "      <td>0</td>\n",
              "    </tr>\n",
              "    <tr>\n",
              "      <th>1</th>\n",
              "      <td>1</td>\n",
              "      <td>0</td>\n",
              "      <td>0</td>\n",
              "      <td>0</td>\n",
              "      <td>0</td>\n",
              "      <td>0</td>\n",
              "      <td>0</td>\n",
              "      <td>0</td>\n",
              "      <td>0</td>\n",
              "      <td>0</td>\n",
              "    </tr>\n",
              "    <tr>\n",
              "      <th>2</th>\n",
              "      <td>0</td>\n",
              "      <td>0</td>\n",
              "      <td>0</td>\n",
              "      <td>0</td>\n",
              "      <td>1</td>\n",
              "      <td>0</td>\n",
              "      <td>0</td>\n",
              "      <td>0</td>\n",
              "      <td>0</td>\n",
              "      <td>0</td>\n",
              "    </tr>\n",
              "    <tr>\n",
              "      <th>3</th>\n",
              "      <td>0</td>\n",
              "      <td>1</td>\n",
              "      <td>0</td>\n",
              "      <td>0</td>\n",
              "      <td>0</td>\n",
              "      <td>0</td>\n",
              "      <td>0</td>\n",
              "      <td>0</td>\n",
              "      <td>0</td>\n",
              "      <td>0</td>\n",
              "    </tr>\n",
              "    <tr>\n",
              "      <th>4</th>\n",
              "      <td>0</td>\n",
              "      <td>0</td>\n",
              "      <td>0</td>\n",
              "      <td>0</td>\n",
              "      <td>0</td>\n",
              "      <td>0</td>\n",
              "      <td>0</td>\n",
              "      <td>0</td>\n",
              "      <td>0</td>\n",
              "      <td>1</td>\n",
              "    </tr>\n",
              "  </tbody>\n",
              "</table>\n",
              "</div>"
            ],
            "text/plain": [
              "   0  1  2  3  4  5  6  7  8  9\n",
              "0  0  0  0  0  0  1  0  0  0  0\n",
              "1  1  0  0  0  0  0  0  0  0  0\n",
              "2  0  0  0  0  1  0  0  0  0  0\n",
              "3  0  1  0  0  0  0  0  0  0  0\n",
              "4  0  0  0  0  0  0  0  0  0  1"
            ]
          },
          "metadata": {
            "tags": []
          },
          "execution_count": 22
        }
      ]
    },
    {
      "cell_type": "code",
      "metadata": {
        "id": "4rFhWaujX0Ym"
      },
      "source": [
        ""
      ],
      "execution_count": null,
      "outputs": []
    }
  ]
}